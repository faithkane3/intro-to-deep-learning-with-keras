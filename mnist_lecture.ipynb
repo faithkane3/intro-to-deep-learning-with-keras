{
 "cells": [
  {
   "cell_type": "code",
   "execution_count": 1,
   "metadata": {},
   "outputs": [
    {
     "name": "stderr",
     "output_type": "stream",
     "text": [
      "Using TensorFlow backend.\n"
     ]
    }
   ],
   "source": [
    "# Libraries and dependencies\n",
    "from keras import models\n",
    "from keras import layers\n",
    "from keras.utils import to_categorical\n",
    "\n",
    "from keras.datasets import mnist # bring in the MNIST data set"
   ]
  },
  {
   "cell_type": "code",
   "execution_count": 18,
   "metadata": {
    "collapsed": true
   },
   "outputs": [],
   "source": [
    "# Acquire the data set\n",
    "(train_images, train_labels), (test_images, test_labels) = mnist.load_data()"
   ]
  },
  {
   "cell_type": "code",
   "execution_count": 19,
   "metadata": {},
   "outputs": [
    {
     "name": "stdout",
     "output_type": "stream",
     "text": [
      "(60000, 28, 28)\n"
     ]
    }
   ],
   "source": [
    "# explore the shape of the data\n",
    "print(train_images.shape)"
   ]
  },
  {
   "cell_type": "code",
   "execution_count": 20,
   "metadata": {},
   "outputs": [],
   "source": [
    "@\n",
    "network = models.Sequential()\n",
    "network.add(layers.Dense(512, activation='relu', input_shape=(28 * 28,)))\n",
    "network.add(layers.Dense(10, activation='softmax'))"
   ]
  },
  {
   "cell_type": "markdown",
   "metadata": {},
   "source": [
    "<dl>\n",
    "    <dt>A loss function</dt>\n",
    "    <dd>How the network will be able to measure its performance on the training data, and thus how it will be able to steer itself in the right direction.</dd>\n",
    "    <dt>An optimizer</dt>\n",
    "    <dd>The mechanism through which the network will update itself based on the data it sees and its loss function.</dd>\n",
    "    <dt>Metrics to monitor during training and testing</dt>\n",
    "    <dd>Here, we’ll only care about accuracy (the fraction of the images that were correctly classified)\n",
    "</dl>\n",
    "   \n"
   ]
  },
  {
   "cell_type": "code",
   "execution_count": 21,
   "metadata": {
    "collapsed": true
   },
   "outputs": [],
   "source": [
    "# create our network, specifying the optimizer, loss function, and metrics we want\n",
    "network.compile(optimizer='rmsprop',\n",
    "                loss='categorical_crossentropy',\n",
    "                metrics=['accuracy'])"
   ]
  },
  {
   "cell_type": "code",
   "execution_count": 22,
   "metadata": {},
   "outputs": [],
   "source": [
    "# reshape\n",
    "train_images = train_images.reshape((60000, 28 * 28))\n",
    "train_images = train_images.astype('float32') / 255\n",
    "test_images = test_images.reshape((10000, 28 * 28))\n",
    "test_images = test_images.astype('float32') / 255\n",
    "\n"
   ]
  },
  {
   "cell_type": "code",
   "execution_count": 23,
   "metadata": {
    "collapsed": true
   },
   "outputs": [],
   "source": [
    "# set the labels as categorical values\n",
    "train_labels = to_categorical(train_labels)\n",
    "test_labels = to_categorical(test_labels)\n"
   ]
  },
  {
   "cell_type": "code",
   "execution_count": 25,
   "metadata": {},
   "outputs": [
    {
     "name": "stdout",
     "output_type": "stream",
     "text": [
      "Epoch 1/17\n",
      "60000/60000 [==============================] - 2s 39us/step - loss: 0.0169 - acc: 0.9951\n",
      "Epoch 2/17\n",
      "60000/60000 [==============================] - 2s 38us/step - loss: 0.0130 - acc: 0.9965\n",
      "Epoch 3/17\n",
      "60000/60000 [==============================] - 2s 38us/step - loss: 0.0100 - acc: 0.9972\n",
      "Epoch 4/17\n",
      "60000/60000 [==============================] - 2s 38us/step - loss: 0.0083 - acc: 0.9975\n",
      "Epoch 5/17\n",
      "60000/60000 [==============================] - 2s 38us/step - loss: 0.0058 - acc: 0.9985\n",
      "Epoch 6/17\n",
      "60000/60000 [==============================] - 2s 38us/step - loss: 0.0049 - acc: 0.9988\n",
      "Epoch 7/17\n",
      "60000/60000 [==============================] - 2s 38us/step - loss: 0.0041 - acc: 0.9990\n",
      "Epoch 8/17\n",
      "60000/60000 [==============================] - 2s 38us/step - loss: 0.0029 - acc: 0.9994\n",
      "Epoch 9/17\n",
      "60000/60000 [==============================] - 2s 38us/step - loss: 0.0026 - acc: 0.9994\n",
      "Epoch 10/17\n",
      "60000/60000 [==============================] - 2s 39us/step - loss: 0.0023 - acc: 0.9994\n",
      "Epoch 11/17\n",
      "60000/60000 [==============================] - 2s 40us/step - loss: 0.0016 - acc: 0.9996\n",
      "Epoch 12/17\n",
      "60000/60000 [==============================] - 2s 39us/step - loss: 0.0013 - acc: 0.9997\n",
      "Epoch 13/17\n",
      "60000/60000 [==============================] - 2s 39us/step - loss: 0.0010 - acc: 0.9999\n",
      "Epoch 14/17\n",
      "60000/60000 [==============================] - 2s 39us/step - loss: 9.1724e-04 - acc: 0.9998\n",
      "Epoch 15/17\n",
      "60000/60000 [==============================] - 2s 39us/step - loss: 9.6337e-04 - acc: 0.9998\n",
      "Epoch 16/17\n",
      "60000/60000 [==============================] - 2s 39us/step - loss: 6.9918e-04 - acc: 0.9998\n",
      "Epoch 17/17\n",
      "60000/60000 [==============================] - 2s 39us/step - loss: 7.0480e-04 - acc: 0.9999\n"
     ]
    },
    {
     "data": {
      "text/plain": [
       "<keras.callbacks.History at 0x183c48ea90>"
      ]
     },
     "execution_count": 25,
     "metadata": {},
     "output_type": "execute_result"
    }
   ],
   "source": [
    "# fit the model to the training data\n",
    "network.fit(train_images, train_labels, epochs=17, batch_size=128)"
   ]
  },
  {
   "cell_type": "code",
   "execution_count": 26,
   "metadata": {},
   "outputs": [
    {
     "name": "stdout",
     "output_type": "stream",
     "text": [
      "10000/10000 [==============================] - 0s 28us/step\n",
      "test_acc: 0.982\n"
     ]
    }
   ],
   "source": [
    "test_loss, test_acc = network.evaluate(test_images, test_labels)\n",
    "\n",
    "print('test_acc:', test_acc)"
   ]
  },
  {
   "cell_type": "code",
   "execution_count": null,
   "metadata": {
    "collapsed": true
   },
   "outputs": [],
   "source": []
  }
 ],
 "metadata": {
  "kernelspec": {
   "display_name": "Python 3",
   "language": "python",
   "name": "python3"
  },
  "language_info": {
   "codemirror_mode": {
    "name": "ipython",
    "version": 3
   },
   "file_extension": ".py",
   "mimetype": "text/x-python",
   "name": "python",
   "nbconvert_exporter": "python",
   "pygments_lexer": "ipython3",
   "version": "3.6.8"
  }
 },
 "nbformat": 4,
 "nbformat_minor": 2
}
