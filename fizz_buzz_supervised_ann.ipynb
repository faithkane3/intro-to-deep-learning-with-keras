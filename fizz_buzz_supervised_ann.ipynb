{
 "cells": [
  {
   "cell_type": "markdown",
   "metadata": {},
   "source": [
    "# Solving FizzBuzz with Keras"
   ]
  },
  {
   "cell_type": "markdown",
   "metadata": {},
   "source": [
    "## Overview\n",
    "- This notebook provides an example Keras network to solve FizzBuzz.\n",
    "- This is a supervised classification problem, so we'll be \n",
    "<img src=\"https://camo.githubusercontent.com/fedd5d66bea57a430635498de58dc7c6f064f280/68747470733a2f2f64707a6268796262327064636a2e636c6f756466726f6e742e6e65742f63686f6c6c65742f466967757265732f303166696730322e6a7067\">"
   ]
  },
  {
   "cell_type": "markdown",
   "metadata": {},
   "source": [
    "## What is FizzBuzz?\n",
    "FizzBuzz is a common programming interview problem. Here's the setup.\n",
    "- Write a program that outputs all the integers from 1 to 100.\n",
    "- If the number is a multpile of 3, then output the string \"Fizz\"\n",
    "- If the number is a multiple of 5, then output the string \"Buzz\"\n",
    "- If the number is a multiple of 15, output the string \"FizzBuzz\"\n",
    "- For any other number, output that, number itself."
   ]
  },
  {
   "cell_type": "code",
   "execution_count": 1,
   "metadata": {},
   "outputs": [
    {
     "name": "stderr",
     "output_type": "stream",
     "text": [
      "Using TensorFlow backend.\n"
     ]
    }
   ],
   "source": [
    "# imports\n",
    "import numpy as np\n",
    "from keras.models import Sequential\n",
    "from keras.layers import Dense\n",
    "from keras.utils import np_utils\n",
    "from keras.layers import Dense\n",
    "from keras.models import Model"
   ]
  },
  {
   "cell_type": "code",
   "execution_count": 2,
   "metadata": {},
   "outputs": [],
   "source": [
    "# Specify the number of binary digits\n",
    "NUM_DIGITS = 10"
   ]
  },
  {
   "cell_type": "code",
   "execution_count": 3,
   "metadata": {},
   "outputs": [],
   "source": [
    "## Setup the training data for 101-1024. 1024 is the highest number countable with 10 binary digits\n",
    "raw_training_data = np.array(range(101, 2**NUM_DIGITS))"
   ]
  },
  {
   "cell_type": "code",
   "execution_count": 4,
   "metadata": {},
   "outputs": [
    {
     "data": {
      "text/plain": [
       "array([102, 103, 104, 105, 106, 107, 108, 109, 110, 111, 112, 113, 114,\n",
       "       115, 116, 117, 118, 119, 120])"
      ]
     },
     "execution_count": 4,
     "metadata": {},
     "output_type": "execute_result"
    }
   ],
   "source": [
    "## This is a numpy array of integers.\n",
    "raw_training_data[1:20]"
   ]
  },
  {
   "cell_type": "code",
   "execution_count": 13,
   "metadata": {},
   "outputs": [],
   "source": [
    "# We need to binary encode our inputs\n",
    "def binary_encode(i, NUM_DIGITS):\n",
    "    return np.array([i >> d & 1 for d in range(NUM_DIGITS)])"
   ]
  },
  {
   "cell_type": "code",
   "execution_count": 6,
   "metadata": {},
   "outputs": [],
   "source": [
    "encoded_training_data = [binary_encode(i, NUM_DIGITS) for i in raw_training_data]\n",
    "x_train = np.array(encoded_training_data)"
   ]
  },
  {
   "cell_type": "code",
   "execution_count": 7,
   "metadata": {},
   "outputs": [
    {
     "name": "stdout",
     "output_type": "stream",
     "text": [
      "[1 0 0 0 0 0 0 0 0 0]\n",
      "[0 1 0 0 0 0 0 0 0 0]\n",
      "[1 1 0 0 0 0 0 0 0 0]\n"
     ]
    }
   ],
   "source": [
    "print(binary_encode(1, NUM_DIGITS))\n",
    "print(binary_encode(2, NUM_DIGITS))\n",
    "print(binary_encode(3, NUM_DIGITS))"
   ]
  },
  {
   "cell_type": "code",
   "execution_count": 8,
   "metadata": {},
   "outputs": [],
   "source": [
    "# Now we'll need to one hot encode the training data for y\n",
    "def fizz_buzz_encode(i):\n",
    "    if i % 15 == 0:\n",
    "        return np.array([0, 0, 0, 1]) # encoding for \"fizzbuzz\"\n",
    "    elif i % 5 == 0: \n",
    "        return np.array([0, 0, 1, 0]) # encoding for \"buzz\"\n",
    "    elif i % 3  == 0: \n",
    "        return np.array([0, 1, 0, 0]) # encoding for \"fizz\"\n",
    "    else:\n",
    "        return np.array([1, 0, 0, 0]) # encoding for the number output"
   ]
  },
  {
   "cell_type": "code",
   "execution_count": 9,
   "metadata": {},
   "outputs": [],
   "source": [
    "# y_train is the encoded output. \n",
    "# This is our \"labeled data\" for supervised learning\n",
    "y_train = np.array([fizz_buzz_encode(i) for i in range(101, 2 ** NUM_DIGITS)])"
   ]
  },
  {
   "cell_type": "code",
   "execution_count": 10,
   "metadata": {},
   "outputs": [
    {
     "name": "stdout",
     "output_type": "stream",
     "text": [
      "WARNING:tensorflow:From /usr/local/anaconda3/lib/python3.7/site-packages/keras/backend/tensorflow_backend.py:74: The name tf.get_default_graph is deprecated. Please use tf.compat.v1.get_default_graph instead.\n",
      "\n",
      "WARNING:tensorflow:From /usr/local/anaconda3/lib/python3.7/site-packages/keras/backend/tensorflow_backend.py:517: The name tf.placeholder is deprecated. Please use tf.compat.v1.placeholder instead.\n",
      "\n",
      "WARNING:tensorflow:From /usr/local/anaconda3/lib/python3.7/site-packages/keras/backend/tensorflow_backend.py:4138: The name tf.random_uniform is deprecated. Please use tf.random.uniform instead.\n",
      "\n",
      "WARNING:tensorflow:From /usr/local/anaconda3/lib/python3.7/site-packages/keras/optimizers.py:790: The name tf.train.Optimizer is deprecated. Please use tf.compat.v1.train.Optimizer instead.\n",
      "\n",
      "WARNING:tensorflow:From /usr/local/anaconda3/lib/python3.7/site-packages/keras/backend/tensorflow_backend.py:3295: The name tf.log is deprecated. Please use tf.math.log instead.\n",
      "\n",
      "WARNING:tensorflow:From /usr/local/anaconda3/lib/python3.7/site-packages/tensorflow_core/python/ops/math_grad.py:1424: where (from tensorflow.python.ops.array_ops) is deprecated and will be removed in a future version.\n",
      "Instructions for updating:\n",
      "Use tf.where in 2.0, which has the same broadcast rule as np.where\n",
      "WARNING:tensorflow:From /usr/local/anaconda3/lib/python3.7/site-packages/keras/backend/tensorflow_backend.py:986: The name tf.assign_add is deprecated. Please use tf.compat.v1.assign_add instead.\n",
      "\n"
     ]
    },
    {
     "name": "stderr",
     "output_type": "stream",
     "text": [
      "/usr/local/anaconda3/lib/python3.7/site-packages/ipykernel_launcher.py:7: UserWarning: The `nb_epoch` argument in `fit` has been renamed `epochs`.\n",
      "  import sys\n"
     ]
    },
    {
     "name": "stdout",
     "output_type": "stream",
     "text": [
      "WARNING:tensorflow:From /usr/local/anaconda3/lib/python3.7/site-packages/keras/backend/tensorflow_backend.py:973: The name tf.assign is deprecated. Please use tf.compat.v1.assign instead.\n",
      "\n",
      "WARNING:tensorflow:From /usr/local/anaconda3/lib/python3.7/site-packages/keras/backend/tensorflow_backend.py:2741: The name tf.Session is deprecated. Please use tf.compat.v1.Session instead.\n",
      "\n",
      "Epoch 1/100\n",
      "WARNING:tensorflow:From /usr/local/anaconda3/lib/python3.7/site-packages/keras/backend/tensorflow_backend.py:174: The name tf.get_default_session is deprecated. Please use tf.compat.v1.get_default_session instead.\n",
      "\n",
      "WARNING:tensorflow:From /usr/local/anaconda3/lib/python3.7/site-packages/keras/backend/tensorflow_backend.py:181: The name tf.ConfigProto is deprecated. Please use tf.compat.v1.ConfigProto instead.\n",
      "\n",
      "WARNING:tensorflow:From /usr/local/anaconda3/lib/python3.7/site-packages/keras/backend/tensorflow_backend.py:190: The name tf.global_variables is deprecated. Please use tf.compat.v1.global_variables instead.\n",
      "\n",
      "WARNING:tensorflow:From /usr/local/anaconda3/lib/python3.7/site-packages/keras/backend/tensorflow_backend.py:199: The name tf.is_variable_initialized is deprecated. Please use tf.compat.v1.is_variable_initialized instead.\n",
      "\n",
      "WARNING:tensorflow:From /usr/local/anaconda3/lib/python3.7/site-packages/keras/backend/tensorflow_backend.py:206: The name tf.variables_initializer is deprecated. Please use tf.compat.v1.variables_initializer instead.\n",
      "\n",
      "923/923 [==============================] - 1s 2ms/step - loss: 1.7552 - acc: 0.4334\n",
      "Epoch 2/100\n",
      "923/923 [==============================] - 0s 229us/step - loss: 1.1533 - acc: 0.5341\n",
      "Epoch 3/100\n",
      "923/923 [==============================] - 0s 195us/step - loss: 1.1387 - acc: 0.5341\n",
      "Epoch 4/100\n",
      "923/923 [==============================] - 0s 228us/step - loss: 1.1325 - acc: 0.5341\n",
      "Epoch 5/100\n",
      "923/923 [==============================] - 0s 264us/step - loss: 1.1268 - acc: 0.5341\n",
      "Epoch 6/100\n",
      "923/923 [==============================] - 0s 217us/step - loss: 1.1177 - acc: 0.5352\n",
      "Epoch 7/100\n",
      "923/923 [==============================] - 0s 228us/step - loss: 1.1073 - acc: 0.5352\n",
      "Epoch 8/100\n",
      "923/923 [==============================] - 0s 211us/step - loss: 1.0919 - acc: 0.5374\n",
      "Epoch 9/100\n",
      "923/923 [==============================] - 0s 220us/step - loss: 1.0787 - acc: 0.5352\n",
      "Epoch 10/100\n",
      "923/923 [==============================] - 0s 217us/step - loss: 1.0623 - acc: 0.5395\n",
      "Epoch 11/100\n",
      "923/923 [==============================] - 0s 250us/step - loss: 1.0421 - acc: 0.5385\n",
      "Epoch 12/100\n",
      "923/923 [==============================] - 0s 213us/step - loss: 1.0226 - acc: 0.5406\n",
      "Epoch 13/100\n",
      "923/923 [==============================] - 0s 224us/step - loss: 0.9957 - acc: 0.5504\n",
      "Epoch 14/100\n",
      "923/923 [==============================] - 0s 248us/step - loss: 0.9718 - acc: 0.5558\n",
      "Epoch 15/100\n",
      "923/923 [==============================] - 0s 230us/step - loss: 0.9504 - acc: 0.5764\n",
      "Epoch 16/100\n",
      "923/923 [==============================] - 0s 319us/step - loss: 0.9171 - acc: 0.5959\n",
      "Epoch 17/100\n",
      "923/923 [==============================] - 0s 323us/step - loss: 0.8988 - acc: 0.5970\n",
      "Epoch 18/100\n",
      "923/923 [==============================] - 0s 354us/step - loss: 0.8591 - acc: 0.6143\n",
      "Epoch 19/100\n",
      "923/923 [==============================] - 0s 292us/step - loss: 0.8370 - acc: 0.6349\n",
      "Epoch 20/100\n",
      "923/923 [==============================] - 0s 315us/step - loss: 0.8119 - acc: 0.6555\n",
      "Epoch 21/100\n",
      "923/923 [==============================] - 0s 309us/step - loss: 0.7880 - acc: 0.7021\n",
      "Epoch 22/100\n",
      "923/923 [==============================] - 0s 311us/step - loss: 0.7325 - acc: 0.7237\n",
      "Epoch 23/100\n",
      "923/923 [==============================] - 0s 299us/step - loss: 0.7040 - acc: 0.7302\n",
      "Epoch 24/100\n",
      "923/923 [==============================] - 0s 311us/step - loss: 0.6599 - acc: 0.7649\n",
      "Epoch 25/100\n",
      "923/923 [==============================] - 0s 307us/step - loss: 0.6234 - acc: 0.7941\n",
      "Epoch 26/100\n",
      "923/923 [==============================] - 0s 308us/step - loss: 0.5838 - acc: 0.8245\n",
      "Epoch 27/100\n",
      "923/923 [==============================] - 0s 275us/step - loss: 0.5796 - acc: 0.8158\n",
      "Epoch 28/100\n",
      "923/923 [==============================] - 0s 342us/step - loss: 0.5647 - acc: 0.8180\n",
      "Epoch 29/100\n",
      "923/923 [==============================] - 0s 343us/step - loss: 0.5053 - acc: 0.8548\n",
      "Epoch 30/100\n",
      "923/923 [==============================] - 0s 284us/step - loss: 0.4629 - acc: 0.8949\n",
      "Epoch 31/100\n",
      "923/923 [==============================] - 0s 285us/step - loss: 0.4496 - acc: 0.8982\n",
      "Epoch 32/100\n",
      "923/923 [==============================] - 0s 339us/step - loss: 0.4046 - acc: 0.9144\n",
      "Epoch 33/100\n",
      "923/923 [==============================] - 0s 321us/step - loss: 0.4232 - acc: 0.8906\n",
      "Epoch 34/100\n",
      "923/923 [==============================] - 0s 334us/step - loss: 0.3551 - acc: 0.9372\n",
      "Epoch 35/100\n",
      "923/923 [==============================] - 0s 391us/step - loss: 0.3279 - acc: 0.9469\n",
      "Epoch 36/100\n",
      "923/923 [==============================] - 0s 401us/step - loss: 0.3156 - acc: 0.9545\n",
      "Epoch 37/100\n",
      "923/923 [==============================] - 0s 459us/step - loss: 0.2841 - acc: 0.9697\n",
      "Epoch 38/100\n",
      "923/923 [==============================] - 0s 410us/step - loss: 0.2762 - acc: 0.9686\n",
      "Epoch 39/100\n",
      "923/923 [==============================] - 1s 702us/step - loss: 0.2532 - acc: 0.9653\n",
      "Epoch 40/100\n",
      "923/923 [==============================] - 1s 653us/step - loss: 0.2421 - acc: 0.9805\n",
      "Epoch 41/100\n",
      "923/923 [==============================] - 1s 747us/step - loss: 0.2210 - acc: 0.9848\n",
      "Epoch 42/100\n",
      "923/923 [==============================] - 1s 710us/step - loss: 0.2072 - acc: 0.9892\n",
      "Epoch 43/100\n",
      "923/923 [==============================] - 1s 573us/step - loss: 0.1894 - acc: 0.9913\n",
      "Epoch 44/100\n",
      "923/923 [==============================] - 1s 546us/step - loss: 0.1837 - acc: 0.9870\n",
      "Epoch 45/100\n",
      "923/923 [==============================] - 0s 538us/step - loss: 0.1659 - acc: 0.9935\n",
      "Epoch 46/100\n",
      "923/923 [==============================] - 0s 432us/step - loss: 0.1712 - acc: 0.9924\n",
      "Epoch 47/100\n",
      "923/923 [==============================] - 0s 372us/step - loss: 0.1477 - acc: 0.9913\n",
      "Epoch 48/100\n",
      "923/923 [==============================] - 0s 355us/step - loss: 0.1462 - acc: 0.9924\n",
      "Epoch 49/100\n",
      "923/923 [==============================] - 0s 324us/step - loss: 0.1321 - acc: 0.9957\n",
      "Epoch 50/100\n",
      "923/923 [==============================] - 0s 302us/step - loss: 0.1236 - acc: 0.9957\n",
      "Epoch 51/100\n",
      "923/923 [==============================] - 0s 319us/step - loss: 0.1233 - acc: 0.9957\n",
      "Epoch 52/100\n",
      "923/923 [==============================] - 0s 366us/step - loss: 0.1198 - acc: 0.9913\n",
      "Epoch 53/100\n",
      "923/923 [==============================] - 0s 322us/step - loss: 0.1064 - acc: 0.9946\n",
      "Epoch 54/100\n",
      "923/923 [==============================] - 0s 300us/step - loss: 0.1041 - acc: 0.9957\n",
      "Epoch 55/100\n",
      "923/923 [==============================] - 0s 423us/step - loss: 0.0971 - acc: 0.9978\n",
      "Epoch 56/100\n",
      "923/923 [==============================] - 0s 307us/step - loss: 0.0909 - acc: 0.9957\n",
      "Epoch 57/100\n",
      "923/923 [==============================] - 0s 326us/step - loss: 0.0853 - acc: 0.9957\n",
      "Epoch 58/100\n",
      "923/923 [==============================] - 0s 336us/step - loss: 0.0843 - acc: 0.9978\n",
      "Epoch 59/100\n",
      "923/923 [==============================] - 0s 273us/step - loss: 0.0795 - acc: 0.9967\n",
      "Epoch 60/100\n",
      "923/923 [==============================] - 0s 274us/step - loss: 0.0789 - acc: 0.9967\n",
      "Epoch 61/100\n",
      "923/923 [==============================] - 0s 286us/step - loss: 0.0713 - acc: 0.9957\n",
      "Epoch 62/100\n",
      "923/923 [==============================] - 0s 288us/step - loss: 0.0674 - acc: 0.9978\n",
      "Epoch 63/100\n",
      "923/923 [==============================] - 0s 264us/step - loss: 0.0650 - acc: 0.9967\n",
      "Epoch 64/100\n",
      "923/923 [==============================] - 0s 256us/step - loss: 0.0633 - acc: 0.9989\n",
      "Epoch 65/100\n",
      "923/923 [==============================] - 0s 271us/step - loss: 0.0603 - acc: 0.9989\n",
      "Epoch 66/100\n",
      "923/923 [==============================] - 0s 258us/step - loss: 0.0591 - acc: 0.9967\n",
      "Epoch 67/100\n",
      "923/923 [==============================] - 0s 253us/step - loss: 0.0552 - acc: 0.9989\n",
      "Epoch 68/100\n",
      "923/923 [==============================] - 0s 270us/step - loss: 0.0537 - acc: 0.9989\n",
      "Epoch 69/100\n"
     ]
    },
    {
     "name": "stdout",
     "output_type": "stream",
     "text": [
      "923/923 [==============================] - 0s 314us/step - loss: 0.0516 - acc: 0.9978\n",
      "Epoch 70/100\n",
      "923/923 [==============================] - 0s 309us/step - loss: 0.0492 - acc: 0.9989\n",
      "Epoch 71/100\n",
      "923/923 [==============================] - 0s 354us/step - loss: 0.0476 - acc: 0.9989\n",
      "Epoch 72/100\n",
      "923/923 [==============================] - 0s 397us/step - loss: 0.0471 - acc: 0.9989\n",
      "Epoch 73/100\n",
      "923/923 [==============================] - 0s 366us/step - loss: 0.0448 - acc: 0.9989\n",
      "Epoch 74/100\n",
      "923/923 [==============================] - 0s 317us/step - loss: 0.0433 - acc: 0.9989\n",
      "Epoch 75/100\n",
      "923/923 [==============================] - 0s 260us/step - loss: 0.0430 - acc: 0.9978\n",
      "Epoch 76/100\n",
      "923/923 [==============================] - 0s 307us/step - loss: 0.0414 - acc: 0.9989\n",
      "Epoch 77/100\n",
      "923/923 [==============================] - 0s 272us/step - loss: 0.0406 - acc: 0.9989\n",
      "Epoch 78/100\n",
      "923/923 [==============================] - 0s 258us/step - loss: 0.0387 - acc: 0.9989\n",
      "Epoch 79/100\n",
      "923/923 [==============================] - 0s 265us/step - loss: 0.0369 - acc: 0.9989\n",
      "Epoch 80/100\n",
      "923/923 [==============================] - 0s 258us/step - loss: 0.0376 - acc: 0.9989\n",
      "Epoch 81/100\n",
      "923/923 [==============================] - 0s 251us/step - loss: 0.0347 - acc: 0.9989\n",
      "Epoch 82/100\n",
      "923/923 [==============================] - 0s 265us/step - loss: 0.0337 - acc: 0.9989\n",
      "Epoch 83/100\n",
      "923/923 [==============================] - 0s 263us/step - loss: 0.0331 - acc: 0.9989\n",
      "Epoch 84/100\n",
      "923/923 [==============================] - 0s 257us/step - loss: 0.0319 - acc: 0.9989\n",
      "Epoch 85/100\n",
      "923/923 [==============================] - 0s 250us/step - loss: 0.0308 - acc: 0.9989\n",
      "Epoch 86/100\n",
      "923/923 [==============================] - 0s 250us/step - loss: 0.0300 - acc: 1.0000\n",
      "Epoch 87/100\n",
      "923/923 [==============================] - 0s 269us/step - loss: 0.0297 - acc: 0.9989\n",
      "Epoch 88/100\n",
      "923/923 [==============================] - 0s 250us/step - loss: 0.0290 - acc: 0.9989\n",
      "Epoch 89/100\n",
      "923/923 [==============================] - 0s 275us/step - loss: 0.0280 - acc: 0.9989\n",
      "Epoch 90/100\n",
      "923/923 [==============================] - 0s 261us/step - loss: 0.0274 - acc: 0.9989\n",
      "Epoch 91/100\n",
      "923/923 [==============================] - 0s 260us/step - loss: 0.0264 - acc: 0.9989\n",
      "Epoch 92/100\n",
      "923/923 [==============================] - 0s 253us/step - loss: 0.0258 - acc: 0.9989\n",
      "Epoch 93/100\n",
      "923/923 [==============================] - 0s 255us/step - loss: 0.0253 - acc: 1.0000\n",
      "Epoch 94/100\n",
      "923/923 [==============================] - 0s 259us/step - loss: 0.0248 - acc: 0.9989\n",
      "Epoch 95/100\n",
      "923/923 [==============================] - 0s 259us/step - loss: 0.0239 - acc: 1.0000\n",
      "Epoch 96/100\n",
      "923/923 [==============================] - 0s 252us/step - loss: 0.0240 - acc: 0.9989\n",
      "Epoch 97/100\n",
      "923/923 [==============================] - 0s 250us/step - loss: 0.0230 - acc: 1.0000\n",
      "Epoch 98/100\n",
      "923/923 [==============================] - 0s 256us/step - loss: 0.0224 - acc: 1.0000\n",
      "Epoch 99/100\n",
      "923/923 [==============================] - 0s 256us/step - loss: 0.0216 - acc: 1.0000\n",
      "Epoch 100/100\n",
      "923/923 [==============================] - 0s 264us/step - loss: 0.0213 - acc: 1.0000\n"
     ]
    },
    {
     "data": {
      "text/plain": [
       "<keras.callbacks.History at 0x10b8f2278>"
      ]
     },
     "execution_count": 10,
     "metadata": {},
     "output_type": "execute_result"
    }
   ],
   "source": [
    "# Now let's build our model, add layers, compile, and fit it!\n",
    "model = Sequential()\n",
    "model.add(Dense(1000, input_dim=10, activation=\"relu\"))\n",
    "model.add(Dense(1000, activation=\"relu\"))\n",
    "model.add(Dense(4, activation=\"softmax\"))\n",
    "model.compile(loss='categorical_crossentropy', optimizer='adagrad', metrics=[\"accuracy\"])\n",
    "model.fit(x_train, y_train, nb_epoch=100, batch_size=128)\n"
   ]
  },
  {
   "cell_type": "code",
   "execution_count": 11,
   "metadata": {},
   "outputs": [],
   "source": [
    "# fizzbuzz to binary\n",
    "def fizz_buzz(i, prediction):\n",
    "    return [str(i), \"fizz\", \"buzz\", \"fizzbuzz\"][prediction]\n"
   ]
  },
  {
   "cell_type": "code",
   "execution_count": 14,
   "metadata": {},
   "outputs": [
    {
     "name": "stdout",
     "output_type": "stream",
     "text": [
      "['1' '2' 'fizz' '4' 'buzz' 'fizz' '7' '8' 'fizz' '10' '11' 'fizz' '13'\n",
      " '14' 'fizzbuzz' '16' '17' 'fizz' '19' '20' 'fizz' '22' '23' 'fizz' 'buzz'\n",
      " '26' 'fizz' '28' '29' 'fizzbuzz' '31' '32' 'fizz' '34' 'buzz' 'fizz' '37'\n",
      " '38' 'fizz' '40' '41' 'fizz' '43' '44' 'fizzbuzz' '46' '47' 'fizz' '49'\n",
      " 'buzz' 'fizz' '52' '53' 'fizz' 'buzz' '56' 'fizz' '58' '59' 'fizzbuzz'\n",
      " '61' '62' 'fizz' '64' '65' 'fizz' '67' '68' '69' 'buzz' '71' 'fizz' '73'\n",
      " '74' 'fizzbuzz' '76' '77' 'fizz' '79' '80' 'fizz' '82' '83' 'fizz' 'buzz'\n",
      " '86' 'fizz' '88' '89' 'fizzbuzz' '91' '92' 'fizz' '94' 'buzz' 'fizz' '97'\n",
      " '98' 'fizz' '100']\n"
     ]
    }
   ],
   "source": [
    "# y_train fizzbuzz for prime numbers from 1 to 100\n",
    "numbers = np.arange(1, 101)\n",
    "x_test = np.transpose(binary_encode(numbers, NUM_DIGITS))\n",
    "y_test = model.predict_classes(x_test)\n",
    "output = np.vectorize(fizz_buzz)(numbers, y_test)\n",
    "print (output)\n"
   ]
  },
  {
   "cell_type": "code",
   "execution_count": 15,
   "metadata": {},
   "outputs": [
    {
     "name": "stdout",
     "output_type": "stream",
     "text": [
      "['1' '2' 'fizz' '4' 'buzz' 'fizz' '7' '8' 'fizz' 'buzz' '11' 'fizz' '13'\n",
      " '14' 'fizzbuzz' '16' '17' 'fizz' '19' 'buzz' 'fizz' '22' '23' 'fizz'\n",
      " 'buzz' '26' 'fizz' '28' '29' 'fizzbuzz' '31' '32' 'fizz' '34' 'buzz'\n",
      " 'fizz' '37' '38' 'fizz' 'buzz' '41' 'fizz' '43' '44' 'fizzbuzz' '46' '47'\n",
      " 'fizz' '49' 'buzz' 'fizz' '52' '53' 'fizz' 'buzz' '56' 'fizz' '58' '59'\n",
      " 'fizzbuzz' '61' '62' 'fizz' '64' 'buzz' 'fizz' '67' '68' 'fizz' 'buzz'\n",
      " '71' 'fizz' '73' '74' 'fizzbuzz' '76' '77' 'fizz' '79' 'buzz' 'fizz' '82'\n",
      " '83' 'fizz' 'buzz' '86' 'fizz' '88' '89' 'fizzbuzz' '91' '92' 'fizz' '94'\n",
      " 'buzz' 'fizz' '97' '98' 'fizz' 'buzz']\n"
     ]
    }
   ],
   "source": [
    "# correct answers for fizzbuzz on 1-100\n",
    "\n",
    "answer = np.array([])\n",
    "for i in numbers:\n",
    "    if i % 15 == 0: answer = np.append(answer, \"fizzbuzz\")\n",
    "    elif i % 5 == 0: answer = np.append(answer, \"buzz\")\n",
    "    elif i % 3 == 0: answer = np.append(answer, \"fizz\")\n",
    "    else: answer = np.append(answer, str(i))\n",
    "print (answer)"
   ]
  },
  {
   "cell_type": "code",
   "execution_count": 16,
   "metadata": {},
   "outputs": [
    {
     "name": "stdout",
     "output_type": "stream",
     "text": [
      "0.93\n"
     ]
    }
   ],
   "source": [
    "# Let's evaluate the model's predictions\n",
    "evaluate = np.array(answer == output)\n",
    "print (np.count_nonzero(evaluate == True) / 100)"
   ]
  },
  {
   "cell_type": "code",
   "execution_count": 17,
   "metadata": {},
   "outputs": [
    {
     "data": {
      "text/plain": [
       "array([ True,  True,  True,  True,  True,  True,  True,  True,  True,\n",
       "       False,  True,  True,  True,  True,  True,  True,  True,  True,\n",
       "        True, False,  True,  True,  True,  True,  True,  True,  True,\n",
       "        True,  True,  True,  True,  True,  True,  True,  True,  True,\n",
       "        True,  True,  True, False,  True,  True,  True,  True,  True,\n",
       "        True,  True,  True,  True,  True,  True,  True,  True,  True,\n",
       "        True,  True,  True,  True,  True,  True,  True,  True,  True,\n",
       "        True, False,  True,  True,  True, False,  True,  True,  True,\n",
       "        True,  True,  True,  True,  True,  True,  True, False,  True,\n",
       "        True,  True,  True,  True,  True,  True,  True,  True,  True,\n",
       "        True,  True,  True,  True,  True,  True,  True,  True,  True,\n",
       "       False])"
      ]
     },
     "execution_count": 17,
     "metadata": {},
     "output_type": "execute_result"
    }
   ],
   "source": [
    "answer == output"
   ]
  },
  {
   "cell_type": "markdown",
   "metadata": {},
   "source": [
    "# Next steps \n",
    "- Crank up the amount of training data to improve accuracy\n",
    "- Solve new problems!"
   ]
  },
  {
   "cell_type": "code",
   "execution_count": null,
   "metadata": {},
   "outputs": [],
   "source": []
  }
 ],
 "metadata": {
  "kernelspec": {
   "display_name": "Python 3",
   "language": "python",
   "name": "python3"
  },
  "language_info": {
   "codemirror_mode": {
    "name": "ipython",
    "version": 3
   },
   "file_extension": ".py",
   "mimetype": "text/x-python",
   "name": "python",
   "nbconvert_exporter": "python",
   "pygments_lexer": "ipython3",
   "version": "3.7.3"
  }
 },
 "nbformat": 4,
 "nbformat_minor": 2
}
